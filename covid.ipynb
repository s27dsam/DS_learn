{
 "cells": [
  {
   "cell_type": "code",
   "execution_count": 1,
   "id": "021ede1e",
   "metadata": {},
   "outputs": [],
   "source": [
    "import pandas as pd\n",
    "import matplotlib.pyplot as plt\n",
    "import seaborn as sns\n",
    "import numpy as np\n",
    "from scipy.stats import norm\n",
    "from sklearn.preprocessing import StandardScaler\n",
    "from scipy import stats\n",
    "import warnings\n",
    "warnings.filterwarnings('ignore')\n",
    "%matplotlib inline"
   ]
  },
  {
   "cell_type": "code",
   "execution_count": 2,
   "id": "2215082b",
   "metadata": {},
   "outputs": [
    {
     "name": "stdout",
     "output_type": "stream",
     "text": [
      "C:\\Users\\s27ds\\desktop\n"
     ]
    }
   ],
   "source": [
    "cd desktop"
   ]
  },
  {
   "cell_type": "code",
   "execution_count": 4,
   "id": "8396a53c",
   "metadata": {},
   "outputs": [],
   "source": [
    "df = pd.read_csv(\"C:/Users/s27ds/Desktop/Coronavirus_COVID-19_Cases.csv\")"
   ]
  },
  {
   "cell_type": "code",
   "execution_count": 5,
   "id": "816a8b17",
   "metadata": {},
   "outputs": [
    {
     "name": "stdout",
     "output_type": "stream",
     "text": [
      "<class 'pandas.core.frame.DataFrame'>\n",
      "RangeIndex: 787 entries, 0 to 786\n",
      "Data columns (total 15 columns):\n",
      " #   Column          Non-Null Count  Dtype  \n",
      "---  ------          --------------  -----  \n",
      " 0   X               768 non-null    float64\n",
      " 1   Y               768 non-null    float64\n",
      " 2   OBJECTID        787 non-null    int64  \n",
      " 3   Province_State  613 non-null    object \n",
      " 4   Country_Region  787 non-null    object \n",
      " 5   Last_Update     786 non-null    object \n",
      " 6   Lat             768 non-null    float64\n",
      " 7   Long_           768 non-null    float64\n",
      " 8   Confirmed       787 non-null    int64  \n",
      " 9   Recovered       787 non-null    int64  \n",
      " 10  Deaths          787 non-null    int64  \n",
      " 11  Active          787 non-null    int64  \n",
      " 12  Admin2          0 non-null      float64\n",
      " 13  FIPS            52 non-null     float64\n",
      " 14  Combined_Key    787 non-null    object \n",
      "dtypes: float64(6), int64(5), object(4)\n",
      "memory usage: 92.4+ KB\n"
     ]
    }
   ],
   "source": [
    "df.info()"
   ]
  },
  {
   "cell_type": "code",
   "execution_count": 15,
   "id": "9c93a24d",
   "metadata": {},
   "outputs": [
    {
     "name": "stdout",
     "output_type": "stream",
     "text": [
      "<class 'pandas.core.frame.DataFrame'>\n",
      "RangeIndex: 787 entries, 0 to 786\n",
      "Data columns (total 6 columns):\n",
      " #   Column          Non-Null Count  Dtype \n",
      "---  ------          --------------  ----- \n",
      " 0   Country_Region  787 non-null    object\n",
      " 1   Last_Update     786 non-null    object\n",
      " 2   Confirmed       787 non-null    int64 \n",
      " 3   Recovered       787 non-null    int64 \n",
      " 4   Deaths          787 non-null    int64 \n",
      " 5   Active          787 non-null    int64 \n",
      "dtypes: int64(4), object(2)\n",
      "memory usage: 37.0+ KB\n"
     ]
    }
   ],
   "source": [
    "df.info()"
   ]
  },
  {
   "cell_type": "code",
   "execution_count": 17,
   "id": "c9f65bba",
   "metadata": {},
   "outputs": [
    {
     "data": {
      "text/plain": [
       "count       787.000000\n",
       "mean       6617.249047\n",
       "std       16113.027237\n",
       "min           0.000000\n",
       "25%         212.500000\n",
       "50%        1733.000000\n",
       "75%        6208.000000\n",
       "max      154006.000000\n",
       "Name: Deaths, dtype: float64"
      ]
     },
     "execution_count": 17,
     "metadata": {},
     "output_type": "execute_result"
    }
   ],
   "source": [
    "df['Deaths'].describe()"
   ]
  },
  {
   "cell_type": "code",
   "execution_count": 20,
   "id": "587c402e",
   "metadata": {},
   "outputs": [
    {
     "data": {
      "text/plain": [
       "<matplotlib.collections.PathCollection at 0x11180149970>"
      ]
     },
     "execution_count": 20,
     "metadata": {},
     "output_type": "execute_result"
    },
    {
     "data": {
      "image/png": "[encoded data removed]",
      "text/plain": [
       "<Figure size 432x288 with 1 Axes>"
      ]
     },
     "metadata": {
      "needs_background": "light"
     },
     "output_type": "display_data"
    }
   ],
   "source": [
    "plt.scatter(df['Deaths'],df['Confirmed'])"
   ]
  },
  {
   "cell_type": "code",
   "execution_count": 26,
   "id": "b920cbab",
   "metadata": {},
   "outputs": [],
   "source": [
    "x = df.Deaths\n",
    "y = df.Confirmed "
   ]
  },
  {
   "cell_type": "code",
   "execution_count": 28,
   "id": "9bba9e4f",
   "metadata": {},
   "outputs": [],
   "source": [
    "xmean = x.mean()\n",
    "ymean = y.mean()\n",
    "df['diffx'] = xmean - x\n",
    "df['diffx_squared'] = df.diffx**2\n",
    "SSxx = df.diffx_squared.sum()\n",
    "df['diffy'] = ymean - y\n",
    "SSxy = (df.diffx * df.diffy).sum()\n",
    "m = SSxy/SSxx"
   ]
  },
  {
   "cell_type": "code",
   "execution_count": 29,
   "id": "b4c62dc7",
   "metadata": {},
   "outputs": [
    {
     "data": {
      "text/plain": [
       "46.12960928994036"
      ]
     },
     "execution_count": 29,
     "metadata": {},
     "output_type": "execute_result"
    }
   ],
   "source": [
    "m"
   ]
  },
  {
   "cell_type": "code",
   "execution_count": 30,
   "id": "3b3555a9",
   "metadata": {},
   "outputs": [],
   "source": [
    "b = ymean - m * xmean"
   ]
  },
  {
   "cell_type": "code",
   "execution_count": 31,
   "id": "f54f764c",
   "metadata": {},
   "outputs": [
    {
     "data": {
      "text/plain": [
       "27917.52475232631"
      ]
     },
     "execution_count": 31,
     "metadata": {},
     "output_type": "execute_result"
    }
   ],
   "source": [
    "b"
   ]
  },
  {
   "cell_type": "code",
   "execution_count": 32,
   "id": "4b65f8d1",
   "metadata": {},
   "outputs": [],
   "source": [
    "def predict(value):\n",
    "    predict = m*value+b\n",
    "    return predict"
   ]
  },
  {
   "cell_type": "code",
   "execution_count": 34,
   "id": "e15a8dc5",
   "metadata": {},
   "outputs": [
    {
     "data": {
      "text/plain": [
       "27963.65436161625"
      ]
     },
     "execution_count": 34,
     "metadata": {},
     "output_type": "execute_result"
    }
   ],
   "source": [
    "# so based on the this data, for every 1 death their are 30,000 confirmed cases \n",
    "predict(1)"
   ]
  },
  {
   "cell_type": "code",
   "execution_count": 37,
   "id": "29dadb32",
   "metadata": {},
   "outputs": [
    {
     "name": "stdout",
     "output_type": "stream",
     "text": [
      "<class 'pandas.core.frame.DataFrame'>\n",
      "RangeIndex: 787 entries, 0 to 786\n",
      "Data columns (total 9 columns):\n",
      " #   Column          Non-Null Count  Dtype  \n",
      "---  ------          --------------  -----  \n",
      " 0   Country_Region  787 non-null    object \n",
      " 1   Last_Update     786 non-null    object \n",
      " 2   Confirmed       787 non-null    int64  \n",
      " 3   Recovered       787 non-null    int64  \n",
      " 4   Deaths          787 non-null    int64  \n",
      " 5   Active          787 non-null    int64  \n",
      " 6   diffx           787 non-null    float64\n",
      " 7   diffx_squared   787 non-null    float64\n",
      " 8   diffy           787 non-null    float64\n",
      "dtypes: float64(3), int64(4), object(2)\n",
      "memory usage: 55.5+ KB\n"
     ]
    }
   ],
   "source": [
    "df.info()"
   ]
  },
  {
   "cell_type": "code",
   "execution_count": null,
   "id": "c32ceb1f",
   "metadata": {},
   "outputs": [],
   "source": []
  }
 ],
 "metadata": {
  "kernelspec": {
   "display_name": "Python 3 (ipykernel)",
   "language": "python",
   "name": "python3"
  },
  "language_info": {
   "codemirror_mode": {
    "name": "ipython",
    "version": 3
   },
   "file_extension": ".py",
   "mimetype": "text/x-python",
   "name": "python",
   "nbconvert_exporter": "python",
   "pygments_lexer": "ipython3",
   "version": "3.8.8"
  }
 },
 "nbformat": 4,
 "nbformat_minor": 5
}
